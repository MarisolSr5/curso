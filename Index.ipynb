{
 "cells": [
  {
   "cell_type": "code",
   "execution_count": null,
   "metadata": {
    "colab": {},
    "colab_type": "code",
    "id": "Ch1lZ9d6Sfro"
   },
   "outputs": [],
   "source": [
    "x= \"le toca traer cafe\";"
   ]
  },
  {
   "cell_type": "code",
   "execution_count": null,
   "metadata": {
    "colab": {},
    "colab_type": "code",
    "id": "TFUfXZqCSxKb"
   },
   "outputs": [],
   "source": [
    "y=\" a el ultimo en llegar\";"
   ]
  },
  {
   "cell_type": "markdown",
   "metadata": {
    "colab_type": "text",
    "id": "kfnSKBYrNCU1"
   },
   "source": [
    "# A Whirlwind Tour of Python"
   ]
  },
  {
   "cell_type": "code",
   "execution_count": null,
   "metadata": {
    "colab": {
     "base_uri": "https://localhost:8080/",
     "height": 34
    },
    "colab_type": "code",
    "executionInfo": {
     "elapsed": 556,
     "status": "ok",
     "timestamp": 1567264346368,
     "user": {
      "displayName": "Ismael Venegas Castelló",
      "photoUrl": "https://lh3.googleusercontent.com/a-/AAuE7mD5u11ErFToxf7Exy9puCBdr_rSneC2f2xMLTXCzQ=s64",
      "userId": "15895640470689845435"
     },
     "user_tz": 300
    },
    "id": "twEcFbzuO7Wn",
    "outputId": "2e54ed23-fe18-44cc-81eb-6051bc3ce386"
   },
   "outputs": [
    {
     "name": "stdout",
     "output_type": "stream",
     "text": [
      "saludos!\n"
     ]
    }
   ],
   "source": [
    "print('saludos!')"
   ]
  },
  {
   "cell_type": "markdown",
   "metadata": {
    "colab_type": "text",
    "id": "c-NsCB2TNCU3"
   },
   "source": [
    "*Jake VanderPlas*"
   ]
  },
  {
   "cell_type": "code",
   "execution_count": null,
   "metadata": {
    "colab": {
     "base_uri": "https://localhost:8080/",
     "height": 35
    },
    "colab_type": "code",
    "executionInfo": {
     "elapsed": 528,
     "status": "ok",
     "timestamp": 1567264833739,
     "user": {
      "displayName": "Marisol Sr",
      "photoUrl": "https://lh3.googleusercontent.com/a-/AAuE7mC_dIY1GGH6NZ70vAOvXYTfbj9FYuZJuqSAEXd1RQ=s64",
      "userId": "01881460738538387527"
     },
     "user_tz": 300
    },
    "id": "Y2yTaBloQE4y",
    "outputId": "fff42eca-0b9b-4377-c5fa-2b80010e90dc"
   },
   "outputs": [
    {
     "name": "stdout",
     "output_type": "stream",
     "text": [
      "Hola :)\n"
     ]
    }
   ],
   "source": [
    "print(\"Hola :)\")"
   ]
  },
  {
   "cell_type": "markdown",
   "metadata": {
    "colab_type": "text",
    "id": "wd03sYDMNCU5"
   },
   "source": [
    "These are the Jupyter Notebooks behind my O'Reilly report,\n",
    "[*A Whirlwind Tour of Python*](http://www.oreilly.com/programming/free/a-whirlwind-tour-of-python.csp).\n",
    "The full notebook listing is available [on Github](https://github.com/jakevdp/WhirlwindTourOfPython).\n",
    "\n",
    "*A Whirlwind Tour of Python* is a fast-paced introduction to essential\n",
    "components of the Python language for researchers and developers who are\n",
    "already familiar with programming in another language.\n",
    "\n",
    "The material is particularly aimed at those who wish to use Python for data \n",
    "science and/or scientific programming, and in this capacity serves as an\n",
    "introduction to my upcoming book, *The Python Data Science Handbook*.\n",
    "These notebooks are adapted from lectures and workshops I've given on these\n",
    "topics at University of Washington and at various conferences, meetings, and\n",
    "workshops around the world."
   ]
  },
  {
   "cell_type": "code",
   "execution_count": null,
   "metadata": {
    "colab": {
     "base_uri": "https://localhost:8080/",
     "height": 34
    },
    "colab_type": "code",
    "executionInfo": {
     "elapsed": 239,
     "status": "ok",
     "timestamp": 1567264977095,
     "user": {
      "displayName": "Lic. Mat. Alejandra Siqueiros",
      "photoUrl": "https://lh3.googleusercontent.com/a-/AAuE7mC2dOClvrRS0xkgUKelfLXh5SWwoCSmT_1qg-FH_w=s64",
      "userId": "03443221074209236203"
     },
     "user_tz": 300
    },
    "id": "RCXhY4W_RTdo",
    "outputId": "d2913f98-1cf8-471d-f849-3fae46cd68f8"
   },
   "outputs": [
    {
     "name": "stdout",
     "output_type": "stream",
     "text": [
      "Los cafés!!\n"
     ]
    }
   ],
   "source": [
    "print(\"Los cafés!!\")"
   ]
  },
  {
   "cell_type": "markdown",
   "metadata": {
    "colab_type": "text",
    "id": "5RkKRXF_RmfP"
   },
   "source": []
  },
  {
   "cell_type": "markdown",
   "metadata": {
    "colab_type": "text",
    "id": "86eLgLYKRh-5"
   },
   "source": []
  },
  {
   "cell_type": "markdown",
   "metadata": {
    "colab_type": "text",
    "id": "ek3KDoWBNCU5"
   },
   "source": [
    "## Index\n",
    "\n",
    "1. [Introduction](00-Introduction.ipynb)\n",
    "2. [How to Run Python Code](01-How-to-Run-Python-Code.ipynb)\n",
    "3. [Basic Python Syntax](02-Basic-Python-Syntax.ipynb)\n",
    "4. [Python Semantics: Variables](03-Semantics-Variables.ipynb)\n",
    "5. [Python Semantics: Operators](04-Semantics-Operators.ipynb)\n",
    "6. [Built-In Scalar Types](05-Built-in-Scalar-Types.ipynb)\n",
    "7. [Built-In Data Structures](06-Built-in-Data-Structures.ipynb)\n",
    "8. [Control Flow Statements](07-Control-Flow-Statements.ipynb)\n",
    "9. [Defining Functions](08-Defining-Functions.ipynb)\n",
    "10. [Errors and Exceptions](09-Errors-and-Exceptions.ipynb)\n",
    "11. [Iterators](10-Iterators.ipynb)\n",
    "12. [List Comprehensions](11-List-Comprehensions.ipynb)\n",
    "13. [Generators and Generator Expressions](12-Generators.ipynb)\n",
    "14. [Modules and Packages](13-Modules-and-Packages.ipynb)\n",
    "15. [Strings and Regular Expressions](14-Strings-and-Regular-Expressions.ipynb)\n",
    "16. [Preview of Data Science Tools](15-Preview-of-Data-Science-Tools.ipynb)\n",
    "17. [Resources for Further Learning](16-Further-Resources.ipynb)\n",
    "18. [Appendix: Code To Reproduce Figures](17-Figures.ipynb)"
   ]
  },
  {
   "cell_type": "markdown",
   "metadata": {
    "colab_type": "text",
    "id": "rFjK5ioENCU6"
   },
   "source": [
    "## License\n",
    "\n",
    "This material is released under the \"No Rights Reserved\" [CC0](LICENSE)\n",
    "license, and thus you are free to re-use, modify, build-on, and enhance\n",
    "this material for any purpose.\n",
    "\n",
    "That said, I request (but do not require) that if you use or adapt this material,\n",
    "you include a proper attribution and/or citation; for example\n",
    "\n",
    "> *A Whirlwind Tour of Python* by Jake VanderPlas (O’Reilly). Copyright 2016 O’Reilly Media, Inc., 978-1-491-96465-1\n",
    "\n",
    "Read more about CC0 [here](https://creativecommons.org/share-your-work/public-domain/cc0/)."
   ]
  }
 ],
 "metadata": {
  "anaconda-cloud": {},
  "colab": {
   "name": "Index.ipynb",
   "provenance": [],
   "version": "0.3.2"
  },
  "kernelspec": {
   "display_name": "Python 3",
   "language": "python",
   "name": "python3"
  },
  "language_info": {
   "codemirror_mode": {
    "name": "ipython",
    "version": 3
   },
   "file_extension": ".py",
   "mimetype": "text/x-python",
   "name": "python",
   "nbconvert_exporter": "python",
   "pygments_lexer": "ipython3",
   "version": "3.7.3"
  }
 },
 "nbformat": 4,
 "nbformat_minor": 4
}
